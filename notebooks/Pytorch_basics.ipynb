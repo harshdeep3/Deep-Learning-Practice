{
  "nbformat": 4,
  "nbformat_minor": 0,
  "metadata": {
    "colab": {
      "provenance": [],
      "gpuType": "T4",
      "private_outputs": true,
      "toc_visible": true,
      "mount_file_id": "1f_pfcjGa5F9SoiH1zPBZuJsKUC4xO9uV",
      "authorship_tag": "ABX9TyOwCFRPig3sBKOWKp4nipaC",
      "include_colab_link": true
    },
    "kernelspec": {
      "name": "python3",
      "display_name": "Python 3"
    },
    "language_info": {
      "name": "python"
    },
    "accelerator": "GPU"
  },
  "cells": [
    {
      "cell_type": "markdown",
      "metadata": {
        "id": "view-in-github",
        "colab_type": "text"
      },
      "source": [
        "<a href=\"https://colab.research.google.com/github/harshdeep3/Deep-Learning-Practice/blob/main/Pytorch_basics.ipynb\" target=\"_parent\"><img src=\"https://colab.research.google.com/assets/colab-badge.svg\" alt=\"Open In Colab\"/></a>"
      ]
    },
    {
      "cell_type": "code",
      "execution_count": null,
      "metadata": {
        "id": "11v4kiYAtvOn"
      },
      "outputs": [],
      "source": [
        "!which python"
      ]
    },
    {
      "cell_type": "code",
      "source": [
        "!pip3 install virtualenv  # Install Virtualenv:\n",
        "!virtualenv venv # Create a Virtual Environment:\n",
        "!source /content/theanoEnv/bin/activate;  # Activate the Virtual Environment:\n",
        "!pip install torch\n"
      ],
      "metadata": {
        "id": "rPBCWR24wO90"
      },
      "execution_count": null,
      "outputs": []
    },
    {
      "cell_type": "code",
      "source": [
        "!python --version"
      ],
      "metadata": {
        "id": "OoOdz5zd0rCI"
      },
      "execution_count": null,
      "outputs": []
    },
    {
      "cell_type": "code",
      "source": [
        "import torch"
      ],
      "metadata": {
        "id": "JNu-V7o1c0X1"
      },
      "execution_count": null,
      "outputs": []
    },
    {
      "cell_type": "markdown",
      "source": [
        "# Tensors\n",
        "Tensor is a number, vector, matrix, or any n-dimensional array."
      ],
      "metadata": {
        "id": "zQxgoLOiXsbH"
      }
    },
    {
      "cell_type": "code",
      "source": [
        "t1 = torch.tensor(4.)\n",
        "t1"
      ],
      "metadata": {
        "id": "N3QatrMwXuNU"
      },
      "execution_count": null,
      "outputs": []
    },
    {
      "cell_type": "code",
      "source": [
        "t1.dtype"
      ],
      "metadata": {
        "id": "MoFSYVllX02b"
      },
      "execution_count": null,
      "outputs": []
    },
    {
      "cell_type": "code",
      "source": [
        "t2 = torch.tensor([1,2,3,4.])\n",
        "t2"
      ],
      "metadata": {
        "id": "jaFY4jCMdqc7"
      },
      "execution_count": null,
      "outputs": []
    },
    {
      "cell_type": "code",
      "source": [
        "t1.shape, t2.shape"
      ],
      "metadata": {
        "id": "eUBBMi7adqhc"
      },
      "execution_count": null,
      "outputs": []
    },
    {
      "cell_type": "code",
      "source": [
        "#basic maths\n",
        "a = torch.tensor(2.)\n",
        "b = torch.tensor(4., requires_grad=True)\n",
        "c = torch.tensor(3., requires_grad=True)"
      ],
      "metadata": {
        "id": "C7z58QQtdqle"
      },
      "execution_count": null,
      "outputs": []
    },
    {
      "cell_type": "code",
      "source": [
        "d = a + b * c"
      ],
      "metadata": {
        "id": "EBwaKQIWdqpG"
      },
      "execution_count": null,
      "outputs": []
    },
    {
      "cell_type": "code",
      "source": [
        "# compute derivatives\n",
        "# setting requires_grad to True compute the derivatives -> keeps track of backwards propogation\n",
        "d.backward()"
      ],
      "metadata": {
        "id": "Un-N4Csvdqta"
      },
      "execution_count": null,
      "outputs": []
    },
    {
      "cell_type": "code",
      "source": [
        "#variable.grad give the gradient of it\n",
        "print(f'dy/da: {a.grad}')\n",
        "print(f'dy/db: {b.grad}')\n",
        "print(f'dy/dc: {c.grad}')"
      ],
      "metadata": {
        "id": "G3mWqkKodqxj"
      },
      "execution_count": null,
      "outputs": []
    },
    {
      "cell_type": "markdown",
      "source": [
        "# Numpy compatiablity\n"
      ],
      "metadata": {
        "id": "3Lb9_Yg0dq2G"
      }
    },
    {
      "cell_type": "code",
      "source": [
        "import numpy as np\n",
        "\n",
        "# numpy array\n",
        "x = np.array([[1,2], [3, 4]])\n",
        "x, x.dtype"
      ],
      "metadata": {
        "id": "0S5NLsirkGE0"
      },
      "execution_count": null,
      "outputs": []
    },
    {
      "cell_type": "code",
      "source": [
        "# converting numpy array to a torch tensor\n",
        "y = torch.from_numpy(x)\n",
        "y, y.dtype"
      ],
      "metadata": {
        "id": "p9JxtI5zkGP8"
      },
      "execution_count": null,
      "outputs": []
    },
    {
      "cell_type": "code",
      "source": [],
      "metadata": {
        "id": "5T6Jeh8ckGTX"
      },
      "execution_count": null,
      "outputs": []
    },
    {
      "cell_type": "code",
      "source": [],
      "metadata": {
        "id": "6yTPxbAwkGXQ"
      },
      "execution_count": null,
      "outputs": []
    },
    {
      "cell_type": "code",
      "source": [],
      "metadata": {
        "id": "WtR1nrEGkGa6"
      },
      "execution_count": null,
      "outputs": []
    },
    {
      "cell_type": "code",
      "source": [],
      "metadata": {
        "id": "BRixCvs8kGej"
      },
      "execution_count": null,
      "outputs": []
    },
    {
      "cell_type": "code",
      "source": [],
      "metadata": {
        "id": "9bo0z4UEkGiJ"
      },
      "execution_count": null,
      "outputs": []
    },
    {
      "cell_type": "code",
      "source": [],
      "metadata": {
        "id": "lnaT21GPkGme"
      },
      "execution_count": null,
      "outputs": []
    }
  ]
}