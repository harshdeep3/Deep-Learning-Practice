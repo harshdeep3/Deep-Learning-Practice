{
  "nbformat": 4,
  "nbformat_minor": 0,
  "metadata": {
    "colab": {
      "provenance": [],
      "gpuType": "T4",
      "private_outputs": true,
      "toc_visible": true,
      "mount_file_id": "1f_pfcjGa5F9SoiH1zPBZuJsKUC4xO9uV",
      "authorship_tag": "ABX9TyNqvd61dpKSPbP4hI4a/8Wt",
      "include_colab_link": true
    },
    "kernelspec": {
      "name": "python3",
      "display_name": "Python 3"
    },
    "language_info": {
      "name": "python"
    },
    "accelerator": "GPU"
  },
  "cells": [
    {
      "cell_type": "markdown",
      "metadata": {
        "id": "view-in-github",
        "colab_type": "text"
      },
      "source": [
        "<a href=\"https://colab.research.google.com/github/harshdeep3/Deep-Learning-Practice/blob/main/Pytorch_basics.ipynb\" target=\"_parent\"><img src=\"https://colab.research.google.com/assets/colab-badge.svg\" alt=\"Open In Colab\"/></a>"
      ]
    },
    {
      "cell_type": "code",
      "execution_count": null,
      "metadata": {
        "id": "11v4kiYAtvOn"
      },
      "outputs": [],
      "source": [
        "!which python"
      ]
    },
    {
      "cell_type": "code",
      "source": [
        "!pip3 install virtualenv  # Install Virtualenv:\n",
        "!virtualenv venv # Create a Virtual Environment:\n",
        "!source /content/theanoEnv/bin/activate;  # Activate the Virtual Environment:\n",
        "!pip install torch\n"
      ],
      "metadata": {
        "id": "rPBCWR24wO90"
      },
      "execution_count": null,
      "outputs": []
    },
    {
      "cell_type": "code",
      "source": [
        "!python --version"
      ],
      "metadata": {
        "id": "OoOdz5zd0rCI"
      },
      "execution_count": null,
      "outputs": []
    },
    {
      "cell_type": "code",
      "source": [
        "!pip list"
      ],
      "metadata": {
        "id": "dUn9Oke809di"
      },
      "execution_count": null,
      "outputs": []
    }
  ]
}